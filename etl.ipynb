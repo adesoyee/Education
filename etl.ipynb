{
 "cells": [
  {
   "cell_type": "code",
   "execution_count": 24,
   "metadata": {},
   "outputs": [],
   "source": [
    "import boto3\n",
    "import pandas as pd\n",
    "from io import StringIO"
   ]
  },
  {
   "cell_type": "code",
   "execution_count": 26,
   "metadata": {},
   "outputs": [],
   "source": [
    "# create s3 client\n",
    "s3 = boto3.client('s3')\n",
    "\n",
    "# specify the bucket & folder you'd like to interact with\n",
    "# we will be using the jobs team as an example\n",
    "name = \"ds-education-la\"\n",
    "file = \"raw/NYC_School_Data.csv\"\n",
    "\n",
    "# using these parameters, we get our \"gsearch_jobs.csv\" object from s3\n",
    "single_object = s3.get_object(Bucket=name, Key=file)"
   ]
  },
  {
   "cell_type": "code",
   "execution_count": 27,
   "metadata": {},
   "outputs": [
    {
     "data": {
      "text/plain": [
       "{'ResponseMetadata': {'RequestId': 'V645GZE20JG97Q7H',\n",
       "  'HostId': 'mxkivlDEjQ89SXifly3iR6wdDxePIbqqslv2M/MbjLeJiqGsK5payEGoQ1QHXHMES5ZIOcSR8rSeAcHpXPqt/xqITtGGZD4f',\n",
       "  'HTTPStatusCode': 200,\n",
       "  'HTTPHeaders': {'x-amz-id-2': 'mxkivlDEjQ89SXifly3iR6wdDxePIbqqslv2M/MbjLeJiqGsK5payEGoQ1QHXHMES5ZIOcSR8rSeAcHpXPqt/xqITtGGZD4f',\n",
       "   'x-amz-request-id': 'V645GZE20JG97Q7H',\n",
       "   'date': 'Thu, 30 May 2024 02:17:30 GMT',\n",
       "   'last-modified': 'Thu, 30 May 2024 02:15:34 GMT',\n",
       "   'etag': '\"aca2fbdf5ce6124da089e43192da55c5\"',\n",
       "   'x-amz-server-side-encryption': 'AES256',\n",
       "   'accept-ranges': 'bytes',\n",
       "   'content-type': 'text/csv',\n",
       "   'server': 'AmazonS3',\n",
       "   'content-length': '325088'},\n",
       "  'RetryAttempts': 0},\n",
       " 'AcceptRanges': 'bytes',\n",
       " 'LastModified': datetime.datetime(2024, 5, 30, 2, 15, 34, tzinfo=tzutc()),\n",
       " 'ContentLength': 325088,\n",
       " 'ETag': '\"aca2fbdf5ce6124da089e43192da55c5\"',\n",
       " 'ContentType': 'text/csv',\n",
       " 'ServerSideEncryption': 'AES256',\n",
       " 'Metadata': {},\n",
       " 'Body': <botocore.response.StreamingBody at 0x7f87759ebd90>}"
      ]
     },
     "execution_count": 27,
     "metadata": {},
     "output_type": "execute_result"
    }
   ],
   "source": [
    "single_object"
   ]
  },
  {
   "cell_type": "code",
   "execution_count": 28,
   "metadata": {},
   "outputs": [],
   "source": [
    "# then we subsequently save it into a pandas dataframe to prepare it for transformations\n",
    "df = pd.read_csv(single_object['Body'])"
   ]
  },
  {
   "cell_type": "code",
   "execution_count": 29,
   "metadata": {},
   "outputs": [
    {
     "data": {
      "text/html": [
       "<div>\n",
       "<style scoped>\n",
       "    .dataframe tbody tr th:only-of-type {\n",
       "        vertical-align: middle;\n",
       "    }\n",
       "\n",
       "    .dataframe tbody tr th {\n",
       "        vertical-align: top;\n",
       "    }\n",
       "\n",
       "    .dataframe thead th {\n",
       "        text-align: right;\n",
       "    }\n",
       "</style>\n",
       "<table border=\"1\" class=\"dataframe\">\n",
       "  <thead>\n",
       "    <tr style=\"text-align: right;\">\n",
       "      <th></th>\n",
       "      <th>District</th>\n",
       "      <th>Grade</th>\n",
       "      <th>Year</th>\n",
       "      <th>Category</th>\n",
       "      <th>Number Tested</th>\n",
       "      <th>Mean Scale Score</th>\n",
       "      <th># Level 1</th>\n",
       "      <th>% Level 1</th>\n",
       "      <th># Level 2</th>\n",
       "      <th>% Level 2</th>\n",
       "      <th># Level 3</th>\n",
       "      <th>% Level 3</th>\n",
       "      <th># Level 4</th>\n",
       "      <th>% Level 4</th>\n",
       "      <th># Level 3+4</th>\n",
       "      <th>% Level 3+4</th>\n",
       "    </tr>\n",
       "  </thead>\n",
       "  <tbody>\n",
       "    <tr>\n",
       "      <th>0</th>\n",
       "      <td>1</td>\n",
       "      <td>3</td>\n",
       "      <td>2023</td>\n",
       "      <td>Econ Disadv</td>\n",
       "      <td>313</td>\n",
       "      <td>442</td>\n",
       "      <td>101</td>\n",
       "      <td>32.3</td>\n",
       "      <td>90</td>\n",
       "      <td>28.8</td>\n",
       "      <td>86</td>\n",
       "      <td>27.5</td>\n",
       "      <td>36</td>\n",
       "      <td>11.5</td>\n",
       "      <td>122</td>\n",
       "      <td>39.0</td>\n",
       "    </tr>\n",
       "    <tr>\n",
       "      <th>1</th>\n",
       "      <td>1</td>\n",
       "      <td>3</td>\n",
       "      <td>2023</td>\n",
       "      <td>Not Econ Disadv</td>\n",
       "      <td>207</td>\n",
       "      <td>465</td>\n",
       "      <td>20</td>\n",
       "      <td>9.7</td>\n",
       "      <td>24</td>\n",
       "      <td>11.6</td>\n",
       "      <td>60</td>\n",
       "      <td>29.0</td>\n",
       "      <td>103</td>\n",
       "      <td>49.8</td>\n",
       "      <td>163</td>\n",
       "      <td>78.7</td>\n",
       "    </tr>\n",
       "    <tr>\n",
       "      <th>2</th>\n",
       "      <td>1</td>\n",
       "      <td>4</td>\n",
       "      <td>2023</td>\n",
       "      <td>Econ Disadv</td>\n",
       "      <td>306</td>\n",
       "      <td>448</td>\n",
       "      <td>65</td>\n",
       "      <td>21.2</td>\n",
       "      <td>102</td>\n",
       "      <td>33.3</td>\n",
       "      <td>79</td>\n",
       "      <td>25.8</td>\n",
       "      <td>60</td>\n",
       "      <td>19.6</td>\n",
       "      <td>139</td>\n",
       "      <td>45.4</td>\n",
       "    </tr>\n",
       "    <tr>\n",
       "      <th>3</th>\n",
       "      <td>1</td>\n",
       "      <td>4</td>\n",
       "      <td>2023</td>\n",
       "      <td>Not Econ Disadv</td>\n",
       "      <td>191</td>\n",
       "      <td>473</td>\n",
       "      <td>7</td>\n",
       "      <td>3.7</td>\n",
       "      <td>28</td>\n",
       "      <td>14.7</td>\n",
       "      <td>39</td>\n",
       "      <td>20.4</td>\n",
       "      <td>117</td>\n",
       "      <td>61.3</td>\n",
       "      <td>156</td>\n",
       "      <td>81.7</td>\n",
       "    </tr>\n",
       "    <tr>\n",
       "      <th>4</th>\n",
       "      <td>1</td>\n",
       "      <td>5</td>\n",
       "      <td>2023</td>\n",
       "      <td>Econ Disadv</td>\n",
       "      <td>335</td>\n",
       "      <td>445</td>\n",
       "      <td>96</td>\n",
       "      <td>28.7</td>\n",
       "      <td>92</td>\n",
       "      <td>27.5</td>\n",
       "      <td>101</td>\n",
       "      <td>30.1</td>\n",
       "      <td>46</td>\n",
       "      <td>13.7</td>\n",
       "      <td>147</td>\n",
       "      <td>43.9</td>\n",
       "    </tr>\n",
       "  </tbody>\n",
       "</table>\n",
       "</div>"
      ],
      "text/plain": [
       "   District Grade  Year         Category Number Tested  Mean Scale Score  \\\n",
       "0         1     3  2023      Econ Disadv           313               442   \n",
       "1         1     3  2023  Not Econ Disadv           207               465   \n",
       "2         1     4  2023      Econ Disadv           306               448   \n",
       "3         1     4  2023  Not Econ Disadv           191               473   \n",
       "4         1     5  2023      Econ Disadv           335               445   \n",
       "\n",
       "  # Level 1  % Level 1 # Level 2  % Level 2 # Level 3  % Level 3 # Level 4  \\\n",
       "0       101       32.3        90       28.8        86       27.5        36   \n",
       "1        20        9.7        24       11.6        60       29.0       103   \n",
       "2        65       21.2       102       33.3        79       25.8        60   \n",
       "3         7        3.7        28       14.7        39       20.4       117   \n",
       "4        96       28.7        92       27.5       101       30.1        46   \n",
       "\n",
       "   % Level 4 # Level 3+4  % Level 3+4  \n",
       "0       11.5         122         39.0  \n",
       "1       49.8         163         78.7  \n",
       "2       19.6         139         45.4  \n",
       "3       61.3         156         81.7  \n",
       "4       13.7         147         43.9  "
      ]
     },
     "execution_count": 29,
     "metadata": {},
     "output_type": "execute_result"
    }
   ],
   "source": [
    "# let's confirm that this worked by viewing the first 5 rows\n",
    "df.head()"
   ]
  },
  {
   "cell_type": "markdown",
   "metadata": {},
   "source": [
    "## Transform\n"
   ]
  },
  {
   "cell_type": "code",
   "execution_count": 30,
   "metadata": {},
   "outputs": [
    {
     "data": {
      "text/html": [
       "<div>\n",
       "<style scoped>\n",
       "    .dataframe tbody tr th:only-of-type {\n",
       "        vertical-align: middle;\n",
       "    }\n",
       "\n",
       "    .dataframe tbody tr th {\n",
       "        vertical-align: top;\n",
       "    }\n",
       "\n",
       "    .dataframe thead th {\n",
       "        text-align: right;\n",
       "    }\n",
       "</style>\n",
       "<table border=\"1\" class=\"dataframe\">\n",
       "  <thead>\n",
       "    <tr style=\"text-align: right;\">\n",
       "      <th></th>\n",
       "      <th>Grade</th>\n",
       "      <th>Year</th>\n",
       "      <th>% Level 1</th>\n",
       "      <th>% Level 2</th>\n",
       "      <th>% Level 3</th>\n",
       "      <th>% Level 4</th>\n",
       "    </tr>\n",
       "  </thead>\n",
       "  <tbody>\n",
       "    <tr>\n",
       "      <th>0</th>\n",
       "      <td>3</td>\n",
       "      <td>2023</td>\n",
       "      <td>32.3</td>\n",
       "      <td>28.8</td>\n",
       "      <td>27.5</td>\n",
       "      <td>11.5</td>\n",
       "    </tr>\n",
       "    <tr>\n",
       "      <th>1</th>\n",
       "      <td>3</td>\n",
       "      <td>2023</td>\n",
       "      <td>9.7</td>\n",
       "      <td>11.6</td>\n",
       "      <td>29.0</td>\n",
       "      <td>49.8</td>\n",
       "    </tr>\n",
       "    <tr>\n",
       "      <th>2</th>\n",
       "      <td>4</td>\n",
       "      <td>2023</td>\n",
       "      <td>21.2</td>\n",
       "      <td>33.3</td>\n",
       "      <td>25.8</td>\n",
       "      <td>19.6</td>\n",
       "    </tr>\n",
       "    <tr>\n",
       "      <th>3</th>\n",
       "      <td>4</td>\n",
       "      <td>2023</td>\n",
       "      <td>3.7</td>\n",
       "      <td>14.7</td>\n",
       "      <td>20.4</td>\n",
       "      <td>61.3</td>\n",
       "    </tr>\n",
       "    <tr>\n",
       "      <th>4</th>\n",
       "      <td>5</td>\n",
       "      <td>2023</td>\n",
       "      <td>28.7</td>\n",
       "      <td>27.5</td>\n",
       "      <td>30.1</td>\n",
       "      <td>13.7</td>\n",
       "    </tr>\n",
       "  </tbody>\n",
       "</table>\n",
       "</div>"
      ],
      "text/plain": [
       "  Grade  Year  % Level 1  % Level 2  % Level 3  % Level 4\n",
       "0     3  2023       32.3       28.8       27.5       11.5\n",
       "1     3  2023        9.7       11.6       29.0       49.8\n",
       "2     4  2023       21.2       33.3       25.8       19.6\n",
       "3     4  2023        3.7       14.7       20.4       61.3\n",
       "4     5  2023       28.7       27.5       30.1       13.7"
      ]
     },
     "execution_count": 30,
     "metadata": {},
     "output_type": "execute_result"
    }
   ],
   "source": [
    "# let's drop all columns except for Grade, Year, %level 1, %level 2, %level 3, %level 4\n",
    "\n",
    "important_cols = ['Grade', 'Year', '% Level 1', '% Level 2', '% Level 3', '% Level 4']\n",
    "\n",
    "focused_df = df[important_cols]\n",
    "\n",
    "focused_df.head()"
   ]
  },
  {
   "cell_type": "code",
   "execution_count": 31,
   "metadata": {},
   "outputs": [
    {
     "data": {
      "text/plain": [
       "Grade        0\n",
       "Year         0\n",
       "% Level 1    0\n",
       "% Level 2    0\n",
       "% Level 3    0\n",
       "% Level 4    0\n",
       "dtype: int64"
      ]
     },
     "execution_count": 31,
     "metadata": {},
     "output_type": "execute_result"
    }
   ],
   "source": [
    "# let's take a look at the null values in this dataframe\n",
    "\n",
    "focused_df.isna().sum()"
   ]
  },
  {
   "cell_type": "code",
   "execution_count": 32,
   "metadata": {},
   "outputs": [
    {
     "data": {
      "text/plain": [
       "(4032, 6)"
      ]
     },
     "execution_count": 32,
     "metadata": {},
     "output_type": "execute_result"
    }
   ],
   "source": [
    "focused_df.shape"
   ]
  },
  {
   "cell_type": "code",
   "execution_count": 33,
   "metadata": {},
   "outputs": [],
   "source": [
    "# drop all missing values\n",
    "\n",
    "dropped_df = focused_df.dropna()"
   ]
  },
  {
   "cell_type": "code",
   "execution_count": 34,
   "metadata": {},
   "outputs": [
    {
     "data": {
      "text/plain": [
       "(4032, 6)"
      ]
     },
     "execution_count": 34,
     "metadata": {},
     "output_type": "execute_result"
    }
   ],
   "source": [
    "dropped_df.shape"
   ]
  },
  {
   "cell_type": "code",
   "execution_count": 35,
   "metadata": {},
   "outputs": [
    {
     "data": {
      "text/html": [
       "<div>\n",
       "<style scoped>\n",
       "    .dataframe tbody tr th:only-of-type {\n",
       "        vertical-align: middle;\n",
       "    }\n",
       "\n",
       "    .dataframe tbody tr th {\n",
       "        vertical-align: top;\n",
       "    }\n",
       "\n",
       "    .dataframe thead th {\n",
       "        text-align: right;\n",
       "    }\n",
       "</style>\n",
       "<table border=\"1\" class=\"dataframe\">\n",
       "  <thead>\n",
       "    <tr style=\"text-align: right;\">\n",
       "      <th></th>\n",
       "      <th>Grade</th>\n",
       "      <th>Year</th>\n",
       "      <th>% Level 1</th>\n",
       "      <th>% Level 2</th>\n",
       "      <th>% Level 3</th>\n",
       "      <th>% Level 4</th>\n",
       "    </tr>\n",
       "  </thead>\n",
       "  <tbody>\n",
       "    <tr>\n",
       "      <th>0</th>\n",
       "      <td>3</td>\n",
       "      <td>2023</td>\n",
       "      <td>32.3</td>\n",
       "      <td>28.8</td>\n",
       "      <td>27.5</td>\n",
       "      <td>11.5</td>\n",
       "    </tr>\n",
       "    <tr>\n",
       "      <th>1</th>\n",
       "      <td>3</td>\n",
       "      <td>2023</td>\n",
       "      <td>9.7</td>\n",
       "      <td>11.6</td>\n",
       "      <td>29.0</td>\n",
       "      <td>49.8</td>\n",
       "    </tr>\n",
       "    <tr>\n",
       "      <th>2</th>\n",
       "      <td>4</td>\n",
       "      <td>2023</td>\n",
       "      <td>21.2</td>\n",
       "      <td>33.3</td>\n",
       "      <td>25.8</td>\n",
       "      <td>19.6</td>\n",
       "    </tr>\n",
       "    <tr>\n",
       "      <th>3</th>\n",
       "      <td>4</td>\n",
       "      <td>2023</td>\n",
       "      <td>3.7</td>\n",
       "      <td>14.7</td>\n",
       "      <td>20.4</td>\n",
       "      <td>61.3</td>\n",
       "    </tr>\n",
       "    <tr>\n",
       "      <th>4</th>\n",
       "      <td>5</td>\n",
       "      <td>2023</td>\n",
       "      <td>28.7</td>\n",
       "      <td>27.5</td>\n",
       "      <td>30.1</td>\n",
       "      <td>13.7</td>\n",
       "    </tr>\n",
       "  </tbody>\n",
       "</table>\n",
       "</div>"
      ],
      "text/plain": [
       "  Grade  Year  % Level 1  % Level 2  % Level 3  % Level 4\n",
       "0     3  2023       32.3       28.8       27.5       11.5\n",
       "1     3  2023        9.7       11.6       29.0       49.8\n",
       "2     4  2023       21.2       33.3       25.8       19.6\n",
       "3     4  2023        3.7       14.7       20.4       61.3\n",
       "4     5  2023       28.7       27.5       30.1       13.7"
      ]
     },
     "execution_count": 35,
     "metadata": {},
     "output_type": "execute_result"
    }
   ],
   "source": [
    "dropped_df.head()"
   ]
  },
  {
   "cell_type": "markdown",
   "metadata": {},
   "source": [
    "The dataset is pretty complete and we are ready to proceed."
   ]
  },
  {
   "cell_type": "markdown",
   "metadata": {},
   "source": [
    " ## Load\n"
   ]
  },
  {
   "cell_type": "code",
   "execution_count": 42,
   "metadata": {},
   "outputs": [],
   "source": [
    "# create a buffer object (temp place to hold data)\n",
    "csv_buffer = StringIO()\n",
    "\n",
    "# open the file in binary format, and save into the var 'data'\n",
    "dropped_df.to_csv(csv_buffer, index=False)\n",
    "\n",
    "### ADDING OBJECTS TO A BUCKET ###\n",
    "response = s3.put_object(\n",
    "    Body=csv_buffer.getvalue(),\n",
    "    Bucket=name,\n",
    "    Key= \"NYC_School_Data.xlsx\"\n",
    ")"
   ]
  }
 ],
 "metadata": {
  "kernelspec": {
   "display_name": "phase1",
   "language": "python",
   "name": "python3"
  },
  "language_info": {
   "codemirror_mode": {
    "name": "ipython",
    "version": 3
   },
   "file_extension": ".py",
   "mimetype": "text/x-python",
   "name": "python",
   "nbconvert_exporter": "python",
   "pygments_lexer": "ipython3",
   "version": "3.9.18"
  }
 },
 "nbformat": 4,
 "nbformat_minor": 2
}
